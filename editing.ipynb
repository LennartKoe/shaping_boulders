{
 "cells": [
  {
   "cell_type": "code",
   "execution_count": null,
   "id": "79f2c11b",
   "metadata": {},
   "outputs": [],
   "source": [
    "from shapely.geometry import Polygon\n",
    "import matplotlib.pyplot as plt\n",
    "import geopandas as gpd\n",
    "import holoviews as hv, geoviews as gv, datashader as ds, panel as pn\n",
    "import numpy as np \n",
    "from holoviews import opts, streams\n",
    "from holoviews.plotting.links import DataLink\n",
    "from holoviews.streams import Stream\n",
    "import pandas as pd\n",
    "from PIL import Image\n",
    "\n",
    "hv.extension('bokeh', width=100)\n",
    "pn.extension()"
   ]
  },
  {
   "cell_type": "markdown",
   "id": "ad3685bb",
   "metadata": {},
   "source": [
    "## reading in geopandas dataframe that is to be edited"
   ]
  },
  {
   "cell_type": "code",
   "execution_count": null,
   "id": "6c38cb09",
   "metadata": {},
   "outputs": [],
   "source": [
    "geopandas_filepath = './OG_pictures/kilter_board/new_geopandas_dataframe.shp'\n",
    "picture_filepath = './OG_pictures/kilter_board.jpeg'"
   ]
  },
  {
   "cell_type": "code",
   "execution_count": null,
   "id": "9ba28a1c",
   "metadata": {},
   "outputs": [],
   "source": [
    "p = gpd.read_file(geopandas_filepath)"
   ]
  },
  {
   "cell_type": "code",
   "execution_count": null,
   "id": "62b2230a",
   "metadata": {},
   "outputs": [],
   "source": [
    "polys = hv.Polygons(p).opts(frame_width=800,aspect='equal')"
   ]
  },
  {
   "cell_type": "code",
   "execution_count": null,
   "id": "f0fbeee3",
   "metadata": {},
   "outputs": [],
   "source": [
    "hv.Polygons(p)"
   ]
  },
  {
   "cell_type": "markdown",
   "id": "b1b9c181",
   "metadata": {},
   "source": [
    "## background image to draw on"
   ]
  },
  {
   "cell_type": "code",
   "execution_count": null,
   "id": "d85c290e",
   "metadata": {},
   "outputs": [],
   "source": [
    "# get image to arrange bounds\n",
    "img = Image.open(picture_filepath)\n",
    "\n",
    "# get width and height\n",
    "width = img.width\n",
    "height = img.height\n",
    "\n",
    "# load background with suitable size\n",
    "pic = hv.RGB.load_image(picture_filepath,bounds=(0,0,width,height))"
   ]
  },
  {
   "cell_type": "markdown",
   "id": "c195bfc4",
   "metadata": {},
   "source": [
    "## editing tool"
   ]
  },
  {
   "cell_type": "code",
   "execution_count": null,
   "id": "d66d422d",
   "metadata": {},
   "outputs": [],
   "source": [
    "poly_edit = streams.PolyEdit(source=polys, vertex_style={'color': 'red'}, shared=True)"
   ]
  },
  {
   "cell_type": "markdown",
   "id": "7bde5a28",
   "metadata": {},
   "source": [
    "## panel to draw on"
   ]
  },
  {
   "cell_type": "code",
   "execution_count": null,
   "id": "bfa2414a",
   "metadata": {
    "scrolled": true
   },
   "outputs": [],
   "source": [
    "# produce map with suitable background and tools\n",
    "#pic*polys.opts(\n",
    "#    opts.Polygons(fill_alpha=0.4, active_tools=['poly_edit']))"
   ]
  },
  {
   "cell_type": "markdown",
   "id": "bd883cc3",
   "metadata": {},
   "source": [
    "## button to save the shapes when edited"
   ]
  },
  {
   "cell_type": "code",
   "execution_count": null,
   "id": "f455a4ef",
   "metadata": {},
   "outputs": [],
   "source": [
    "def save_holds(event):\n",
    "    gdf = gpd.GeoDataFrame(poly_edit.element.data)\n",
    "    polys=[]\n",
    "    for i in range(len(gdf)):\n",
    "        polys.append(Polygon(list(zip(gdf.x[i], gdf.y[i]))))\n",
    "    gdf = gpd.GeoDataFrame(poly_edit.element.data, geometry = polys)\n",
    "    gdf.drop(columns=['x','y'], inplace=True)\n",
    "    #polys = hv.Polygons(gdf)\n",
    "\n",
    "    mask = gdf.where(gdf.geometry.type == 'GeometryCollection').dropna().index\n",
    "    gdf_new = gdf.drop(mask)\n",
    "    gdf_new.to_file(geopandas_filepath)\n",
    "    confirm_button_range.clicks +=1\n",
    "    alert.visible = False\n",
    "    \n",
    "save_button = pn.widgets.Button(name='Save shapes', width=300, height = 55, align = 'start', button_type = 'success')\n",
    "save_button.on_click(save_holds)"
   ]
  },
  {
   "cell_type": "markdown",
   "id": "68f83559",
   "metadata": {},
   "source": [
    "# Final Plot"
   ]
  },
  {
   "cell_type": "code",
   "execution_count": null,
   "id": "332984db",
   "metadata": {},
   "outputs": [],
   "source": [
    "title = title = '<div style=\"font-size:50px\">Editing Holds</div>'\n",
    "title = pn.Pane(title, height = 100)"
   ]
  },
  {
   "cell_type": "code",
   "execution_count": null,
   "id": "a48b066e",
   "metadata": {},
   "outputs": [],
   "source": [
    "app = pn.Column(title, save_button,\" \",\" \", pn.Row((pic*polys).opts(\n",
    "    opts.Polygons(fill_alpha=0.4, active_tools=['poly_edit']))))"
   ]
  },
  {
   "cell_type": "code",
   "execution_count": null,
   "id": "e2dda056",
   "metadata": {},
   "outputs": [],
   "source": [
    "app.servable(title='Editing Holds')"
   ]
  },
  {
   "cell_type": "code",
   "execution_count": null,
   "id": "70019639",
   "metadata": {},
   "outputs": [],
   "source": []
  }
 ],
 "metadata": {
  "kernelspec": {
   "display_name": "Python 3 (ipykernel)",
   "language": "python",
   "name": "python3"
  },
  "language_info": {
   "codemirror_mode": {
    "name": "ipython",
    "version": 3
   },
   "file_extension": ".py",
   "mimetype": "text/x-python",
   "name": "python",
   "nbconvert_exporter": "python",
   "pygments_lexer": "ipython3",
   "version": "3.8.13"
  }
 },
 "nbformat": 4,
 "nbformat_minor": 5
}
