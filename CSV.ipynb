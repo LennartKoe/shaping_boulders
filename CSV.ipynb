{
 "cells": [
  {
   "cell_type": "code",
   "execution_count": 55,
   "id": "feecb59b",
   "metadata": {},
   "outputs": [],
   "source": [
    "import pandas as pd\n",
    "import numpy as np"
   ]
  },
  {
   "cell_type": "code",
   "execution_count": 56,
   "id": "1e6faad2",
   "metadata": {},
   "outputs": [],
   "source": [
    "df = pd.DataFrame(columns=['name', 'grade', 'holds', 'setter'])"
   ]
  },
  {
   "cell_type": "code",
   "execution_count": 57,
   "id": "7e2f6e92",
   "metadata": {},
   "outputs": [],
   "source": [
    "df.name = ['Boulder1', 'Boulder2', 'Boulder3', 'Boulder4']\n",
    "df.grade = ['5a', '6a', '7c', '6b+']\n",
    "df.setter = ['MS', 'LK', 'AC', 'LK']\n",
    "df.holds = [[2,7, 18 , 29, 50 , 100, 138], [3, 10, 34, 28, 98, 128], sorted([1, 47, 34, 119, 89, 43]), sorted([90, 32, 33, 100, 55, 4])]"
   ]
  },
  {
   "cell_type": "code",
   "execution_count": 58,
   "id": "ca39a2a0",
   "metadata": {},
   "outputs": [
    {
     "data": {
      "text/html": [
       "<div>\n",
       "<style scoped>\n",
       "    .dataframe tbody tr th:only-of-type {\n",
       "        vertical-align: middle;\n",
       "    }\n",
       "\n",
       "    .dataframe tbody tr th {\n",
       "        vertical-align: top;\n",
       "    }\n",
       "\n",
       "    .dataframe thead th {\n",
       "        text-align: right;\n",
       "    }\n",
       "</style>\n",
       "<table border=\"1\" class=\"dataframe\">\n",
       "  <thead>\n",
       "    <tr style=\"text-align: right;\">\n",
       "      <th></th>\n",
       "      <th>name</th>\n",
       "      <th>grade</th>\n",
       "      <th>holds</th>\n",
       "      <th>setter</th>\n",
       "    </tr>\n",
       "  </thead>\n",
       "  <tbody>\n",
       "    <tr>\n",
       "      <th>0</th>\n",
       "      <td>Boulder1</td>\n",
       "      <td>5a</td>\n",
       "      <td>[2, 7, 18, 29, 50, 100, 138]</td>\n",
       "      <td>MS</td>\n",
       "    </tr>\n",
       "    <tr>\n",
       "      <th>1</th>\n",
       "      <td>Boulder2</td>\n",
       "      <td>6a</td>\n",
       "      <td>[3, 10, 34, 28, 98, 128]</td>\n",
       "      <td>LK</td>\n",
       "    </tr>\n",
       "    <tr>\n",
       "      <th>2</th>\n",
       "      <td>Boulder3</td>\n",
       "      <td>7c</td>\n",
       "      <td>[1, 34, 43, 47, 89, 119]</td>\n",
       "      <td>AC</td>\n",
       "    </tr>\n",
       "    <tr>\n",
       "      <th>3</th>\n",
       "      <td>Boulder4</td>\n",
       "      <td>6b+</td>\n",
       "      <td>[4, 32, 33, 55, 90, 100]</td>\n",
       "      <td>LK</td>\n",
       "    </tr>\n",
       "  </tbody>\n",
       "</table>\n",
       "</div>"
      ],
      "text/plain": [
       "       name grade                         holds setter\n",
       "0  Boulder1    5a  [2, 7, 18, 29, 50, 100, 138]     MS\n",
       "1  Boulder2    6a      [3, 10, 34, 28, 98, 128]     LK\n",
       "2  Boulder3    7c      [1, 34, 43, 47, 89, 119]     AC\n",
       "3  Boulder4   6b+      [4, 32, 33, 55, 90, 100]     LK"
      ]
     },
     "execution_count": 58,
     "metadata": {},
     "output_type": "execute_result"
    }
   ],
   "source": [
    "df"
   ]
  },
  {
   "cell_type": "code",
   "execution_count": 59,
   "id": "01f33217",
   "metadata": {},
   "outputs": [],
   "source": [
    "df.to_csv('boulder.csv', index=False)"
   ]
  },
  {
   "cell_type": "code",
   "execution_count": 60,
   "id": "f7950f30",
   "metadata": {},
   "outputs": [
    {
     "data": {
      "text/html": [
       "<div>\n",
       "<style scoped>\n",
       "    .dataframe tbody tr th:only-of-type {\n",
       "        vertical-align: middle;\n",
       "    }\n",
       "\n",
       "    .dataframe tbody tr th {\n",
       "        vertical-align: top;\n",
       "    }\n",
       "\n",
       "    .dataframe thead th {\n",
       "        text-align: right;\n",
       "    }\n",
       "</style>\n",
       "<table border=\"1\" class=\"dataframe\">\n",
       "  <thead>\n",
       "    <tr style=\"text-align: right;\">\n",
       "      <th></th>\n",
       "      <th>name</th>\n",
       "      <th>grade</th>\n",
       "      <th>holds</th>\n",
       "      <th>setter</th>\n",
       "    </tr>\n",
       "  </thead>\n",
       "  <tbody>\n",
       "    <tr>\n",
       "      <th>0</th>\n",
       "      <td>Boulder1</td>\n",
       "      <td>5a</td>\n",
       "      <td>[2, 7, 18, 29, 50, 100, 138]</td>\n",
       "      <td>MS</td>\n",
       "    </tr>\n",
       "    <tr>\n",
       "      <th>1</th>\n",
       "      <td>Boulder2</td>\n",
       "      <td>6a</td>\n",
       "      <td>[3, 10, 34, 28, 98, 128]</td>\n",
       "      <td>LK</td>\n",
       "    </tr>\n",
       "    <tr>\n",
       "      <th>2</th>\n",
       "      <td>Boulder3</td>\n",
       "      <td>7c</td>\n",
       "      <td>[1, 34, 43, 47, 89, 119]</td>\n",
       "      <td>AC</td>\n",
       "    </tr>\n",
       "    <tr>\n",
       "      <th>3</th>\n",
       "      <td>Boulder4</td>\n",
       "      <td>6b+</td>\n",
       "      <td>[4, 32, 33, 55, 90, 100]</td>\n",
       "      <td>LK</td>\n",
       "    </tr>\n",
       "  </tbody>\n",
       "</table>\n",
       "</div>"
      ],
      "text/plain": [
       "       name grade                         holds setter\n",
       "0  Boulder1    5a  [2, 7, 18, 29, 50, 100, 138]     MS\n",
       "1  Boulder2    6a      [3, 10, 34, 28, 98, 128]     LK\n",
       "2  Boulder3    7c      [1, 34, 43, 47, 89, 119]     AC\n",
       "3  Boulder4   6b+      [4, 32, 33, 55, 90, 100]     LK"
      ]
     },
     "execution_count": 60,
     "metadata": {},
     "output_type": "execute_result"
    }
   ],
   "source": [
    "df = pd.read_csv('boulder.csv')\n",
    "df"
   ]
  },
  {
   "cell_type": "code",
   "execution_count": null,
   "id": "ad72dc1d",
   "metadata": {},
   "outputs": [],
   "source": []
  },
  {
   "cell_type": "code",
   "execution_count": null,
   "id": "aee62940",
   "metadata": {},
   "outputs": [],
   "source": []
  }
 ],
 "metadata": {
  "kernelspec": {
   "display_name": "Python 3 (ipykernel)",
   "language": "python",
   "name": "python3"
  },
  "language_info": {
   "codemirror_mode": {
    "name": "ipython",
    "version": 3
   },
   "file_extension": ".py",
   "mimetype": "text/x-python",
   "name": "python",
   "nbconvert_exporter": "python",
   "pygments_lexer": "ipython3",
   "version": "3.10.4"
  }
 },
 "nbformat": 4,
 "nbformat_minor": 5
}
