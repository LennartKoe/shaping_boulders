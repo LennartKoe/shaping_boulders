{
 "cells": [
  {
   "cell_type": "code",
   "execution_count": null,
   "id": "b583e7f7",
   "metadata": {},
   "outputs": [],
   "source": [
    "from shapely.geometry import Polygon\n",
    "import matplotlib.pyplot as plt\n",
    "import geopandas as gpd\n",
    "import holoviews as hv, geoviews as gv, datashader as ds, panel as pn\n",
    "import numpy as np \n",
    "from holoviews import opts, streams\n",
    "from holoviews.plotting.links import DataLink\n",
    "from holoviews.streams import Stream\n",
    "import pandas as pd\n",
    "from PIL import Image\n",
    "\n",
    "hv.extension('bokeh', width=100)\n",
    "pn.extension()"
   ]
  },
  {
   "cell_type": "markdown",
   "id": "3c7366f7",
   "metadata": {},
   "source": [
    "## reading in geopandas dataframe that is to be edited"
   ]
  },
  {
   "cell_type": "code",
   "execution_count": null,
   "id": "a30c04a8",
   "metadata": {},
   "outputs": [],
   "source": [
    "geopandas_filepath = './OG_pictures/kilter_board/new_geopandas_dataframe.shp'\n",
    "picture_filepath = './OG_pictures/kilter_board.jpeg'"
   ]
  },
  {
   "cell_type": "markdown",
   "id": "fbacf525",
   "metadata": {},
   "source": [
    "## default geopandas dataframe"
   ]
  },
  {
   "cell_type": "code",
   "execution_count": null,
   "id": "3c5eff2b",
   "metadata": {},
   "outputs": [],
   "source": [
    "d = {'geometry': ['POLYGON ((0.000 0.000, 0.000 0.000, 0.000 0.000, 0.000 0.000, 0.000 0.000))']}\n",
    "df = pd.DataFrame(d)\n",
    "gs = gpd.GeoSeries.from_wkt(df['geometry'])\n",
    "p = gpd.GeoDataFrame(df, geometry=gs, crs=\"EPSG:4326\")"
   ]
  },
  {
   "cell_type": "code",
   "execution_count": null,
   "id": "0f5bf3d9",
   "metadata": {},
   "outputs": [],
   "source": [
    "polys = hv.Polygons(p).opts(frame_width=800,aspect='equal')"
   ]
  },
  {
   "cell_type": "markdown",
   "id": "c3f7d82c",
   "metadata": {},
   "source": [
    "## background image to draw on"
   ]
  },
  {
   "cell_type": "code",
   "execution_count": null,
   "id": "c8dc850c",
   "metadata": {},
   "outputs": [],
   "source": [
    "# get image to arrange bounds\n",
    "img = Image.open(picture_filepath)\n",
    "\n",
    "# get width and height\n",
    "width = img.width\n",
    "height = img.height\n",
    "\n",
    "# load background with suitable size\n",
    "pic = hv.RGB.load_image(picture_filepath,bounds=(0,0,width,height))\n",
    "\n",
    "# produce map from background\n",
    "#(pic * hv.Bounds((-0.15, -0.4, 0.2, 0))).opts(\n",
    "#   opts.Bounds(color='orange', line_width=6))"
   ]
  },
  {
   "cell_type": "markdown",
   "id": "109624c2",
   "metadata": {},
   "source": [
    "## drawing tool"
   ]
  },
  {
   "cell_type": "code",
   "execution_count": null,
   "id": "c3e742c3",
   "metadata": {},
   "outputs": [],
   "source": [
    "poly_draw = streams.PolyDraw(source=polys, drag=True, num_objects=600,\n",
    "                               show_vertices=True)"
   ]
  },
  {
   "cell_type": "markdown",
   "id": "4cdd9ac5",
   "metadata": {},
   "source": [
    "# panel to draw on"
   ]
  },
  {
   "cell_type": "code",
   "execution_count": null,
   "id": "d73638cc",
   "metadata": {},
   "outputs": [],
   "source": [
    "# produce map with suitable background and tools\n",
    "#(pic*polys).opts(\n",
    "#    opts.Polygons(fill_alpha=0.3, tools=['poly_draw']))#, 'poly_edit', 'tap']))"
   ]
  },
  {
   "cell_type": "markdown",
   "id": "a1bb9c07",
   "metadata": {},
   "source": [
    "## button to save the shapes when drawn"
   ]
  },
  {
   "cell_type": "code",
   "execution_count": null,
   "id": "4f965043",
   "metadata": {},
   "outputs": [],
   "source": [
    "def save_holds(event):\n",
    "    gdf = gpd.GeoDataFrame(poly_draw.element.data)\n",
    "    polys=[]\n",
    "    for i in range(len(gdf)):\n",
    "        polys.append(Polygon(list(zip(gdf.x[i], gdf.y[i]))))\n",
    "    gdf = gpd.GeoDataFrame(poly_draw.element.data, geometry = polys)\n",
    "    gdf.drop(columns=['x','y'], inplace=True)\n",
    "    #polys = hv.Polygons(gdf)\n",
    "\n",
    "    mask = gdf.where(gdf.geometry.type == 'GeometryCollection').dropna().index\n",
    "    gdf_new = gdf.drop(mask)\n",
    "    gdf_new.to_file(geopandas_filepath)\n",
    "    confirm_button_range.clicks +=1\n",
    "    alert.visible = False\n",
    "    \n",
    "save_button = pn.widgets.Button(name='Save shapes', width=300, height = 55, align = 'start', button_type = 'success')\n",
    "save_button.on_click(save_holds)"
   ]
  },
  {
   "cell_type": "markdown",
   "id": "bc8b5576",
   "metadata": {},
   "source": [
    "# Final Plot"
   ]
  },
  {
   "cell_type": "code",
   "execution_count": null,
   "id": "e4ba7475",
   "metadata": {},
   "outputs": [],
   "source": [
    "title = title = '<div style=\"font-size:50px\">Drawing Holds</div>'\n",
    "title = pn.Pane(title, height = 100)"
   ]
  },
  {
   "cell_type": "code",
   "execution_count": null,
   "id": "dd68b9b0",
   "metadata": {},
   "outputs": [],
   "source": [
    "app = pn.Column(title, save_button,\" \",\" \", pn.Row((pic*polys).opts(\n",
    "    opts.Polygons(fill_alpha=0.3, tools=['poly_draw']))))"
   ]
  },
  {
   "cell_type": "code",
   "execution_count": null,
   "id": "3cb23c31",
   "metadata": {},
   "outputs": [],
   "source": [
    "app.servable(title='Drawing Holds')"
   ]
  },
  {
   "cell_type": "code",
   "execution_count": null,
   "id": "d9e7f788",
   "metadata": {},
   "outputs": [],
   "source": []
  }
 ],
 "metadata": {
  "kernelspec": {
   "display_name": "Python 3 (ipykernel)",
   "language": "python",
   "name": "python3"
  },
  "language_info": {
   "codemirror_mode": {
    "name": "ipython",
    "version": 3
   },
   "file_extension": ".py",
   "mimetype": "text/x-python",
   "name": "python",
   "nbconvert_exporter": "python",
   "pygments_lexer": "ipython3",
   "version": "3.10.4"
  }
 },
 "nbformat": 4,
 "nbformat_minor": 5
}
